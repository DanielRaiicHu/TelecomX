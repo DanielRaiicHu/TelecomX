{
  "nbformat": 4,
  "nbformat_minor": 0,
  "metadata": {
    "colab": {
      "provenance": [],
      "authorship_tag": "ABX9TyMMehlPWa2N8aAoHEaRpiu2"
    },
    "kernelspec": {
      "name": "python3",
      "display_name": "Python 3"
    },
    "language_info": {
      "name": "python"
    }
  },
  "cells": [
    {
      "cell_type": "markdown",
      "source": [
        "<a href=\"https://colab.research.google.com/github/DanielRaiicHu/TelecomX/blob/main/TelecomX.ipynb?forceRefresh=true\">\n",
        "  <img src=\"https://drive.google.com/uc?export=view&id=191Woxwut0iaIL2hCcCIeXRSB6oba_88H\" alt=\"Abrir en Colab\" width=\"120\"/>\n",
        "</a>"
      ],
      "metadata": {
        "id": "6iXCxA7bKTGi"
      }
    },
    {
      "cell_type": "markdown",
      "source": [
        "# **Extracción de datos**"
      ],
      "metadata": {
        "id": "8LxCQkARK9B9"
      }
    },
    {
      "cell_type": "code",
      "source": [],
      "metadata": {
        "id": "WaSsMqPgLJoQ"
      },
      "execution_count": null,
      "outputs": []
    },
    {
      "cell_type": "markdown",
      "source": [
        "# **transformación de datos**"
      ],
      "metadata": {
        "id": "oNSULvoMK9M1"
      }
    },
    {
      "cell_type": "code",
      "source": [],
      "metadata": {
        "id": "3q92PoBeLJWo"
      },
      "execution_count": null,
      "outputs": []
    },
    {
      "cell_type": "markdown",
      "source": [
        "# **Carga y análisis**"
      ],
      "metadata": {
        "id": "PQtmcczoK9Sk"
      }
    },
    {
      "cell_type": "code",
      "source": [],
      "metadata": {
        "id": "c-fHnui2LPA4"
      },
      "execution_count": null,
      "outputs": []
    },
    {
      "cell_type": "markdown",
      "source": [
        "# **Informe final**"
      ],
      "metadata": {
        "id": "g2NbhTKJK9U9"
      }
    },
    {
      "cell_type": "code",
      "source": [],
      "metadata": {
        "id": "2xcZP_bhLUp-"
      },
      "execution_count": null,
      "outputs": []
    }
  ]
}