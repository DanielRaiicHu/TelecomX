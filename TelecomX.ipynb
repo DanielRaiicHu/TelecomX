{
  "nbformat": 4,
  "nbformat_minor": 0,
  "metadata": {
    "colab": {
      "provenance": [],
      "authorship_tag": "ABX9TyPmOfuBkitnqyFtecMgEcwC"
    },
    "kernelspec": {
      "name": "python3",
      "display_name": "Python 3"
    },
    "language_info": {
      "name": "python"
    }
  },
  "cells": [
    {
      "cell_type": "markdown",
      "source": [
        "<a href=\"https://colab.research.google.com/github/DanielRaiicHu/TelecomX/blob/main/TelecomX.ipynb?forceRefresh=true\">\n",
        "  <img src=\"https://drive.google.com/uc?export=view&id=191Woxwut0iaIL2hCcCIeXRSB6oba_88H\" alt=\"Abrir en Colab\" width=\"120\"/>\n",
        "</a>"
      ],
      "metadata": {
        "id": "6iXCxA7bKTGi"
      }
    },
    {
      "cell_type": "code",
      "execution_count": null,
      "metadata": {
        "id": "r61RNSQqKJZt"
      },
      "outputs": [],
      "source": []
    }
  ]
}